{
 "cells": [
  {
   "cell_type": "code",
   "execution_count": null,
   "metadata": {},
   "outputs": [],
   "source": [
    "import pandas as pd\n"
   ]
  },
  {
   "cell_type": "code",
   "execution_count": null,
   "metadata": {},
   "outputs": [],
   "source": [
    "cols = \"age, workclass, fnlwgt, education, education-num, marital-status, occupation, relationship, race, sex, capital-gain, capital-loss, hours-per-week, native-country, income\".split(', ')\n",
    "data = pd.read_csv('https://archive.ics.uci.edu/ml/machine-learning-databases/adult/adult.data',names = cols)\n",
    "data.head()"
   ]
  },
  {
   "cell_type": "markdown",
   "metadata": {},
   "source": [
    "## normality test"
   ]
  },
  {
   "cell_type": "code",
   "execution_count": null,
   "metadata": {},
   "outputs": [],
   "source": [
    "from scipy.stats import normaltest\n",
    "k2, p = normaltest(data['age'])\n",
    "\n",
    "print(k2,p)\n",
    "if p < 0.001 : print('not normal')\n",
    "else: print('normal')"
   ]
  },
  {
   "cell_type": "code",
   "execution_count": null,
   "metadata": {},
   "outputs": [],
   "source": [
    "%matplotlib inline\n",
    "import matplotlib.pyplot as plt\n",
    "data['age'].hist()\n",
    "plt.show()"
   ]
  },
  {
   "cell_type": "markdown",
   "metadata": {},
   "source": [
    "## correlation check"
   ]
  },
  {
   "cell_type": "code",
   "execution_count": null,
   "metadata": {},
   "outputs": [],
   "source": [
    "import numpy as np\n",
    "\n",
    "np.random.seed(1)\n",
    "\n",
    "# 1000 random integers between 0 and 50\n",
    "x = np.random.randint(0, 50, 1000)\n",
    "\n",
    "# Positive Correlation with some noise\n",
    "y = x + np.random.normal(0, 10, 1000)\n",
    "\n",
    "np.corrcoef(x, y)"
   ]
  },
  {
   "cell_type": "code",
   "execution_count": null,
   "metadata": {},
   "outputs": [],
   "source": [
    "plt.scatter(x, y)\n",
    "plt.show()"
   ]
  },
  {
   "cell_type": "code",
   "execution_count": null,
   "metadata": {},
   "outputs": [],
   "source": [
    "adata =data[['age','education-num','capital-gain']]\n",
    "adata.corr()"
   ]
  },
  {
   "cell_type": "code",
   "execution_count": null,
   "metadata": {},
   "outputs": [],
   "source": [
    "data.columns"
   ]
  },
  {
   "cell_type": "code",
   "execution_count": null,
   "metadata": {},
   "outputs": [],
   "source": [
    "plt.matshow(adata.corr())\n",
    "plt.xticks(range(len(adata.columns)), adata.columns)\n",
    "plt.yticks(range(len(adata.columns)), adata.columns)\n",
    "plt.colorbar()\n",
    "plt.show()"
   ]
  },
  {
   "cell_type": "code",
   "execution_count": null,
   "metadata": {},
   "outputs": [],
   "source": [
    "pd.plotting.scatter_matrix(adata, figsize=(6, 6))\n",
    "plt.show()"
   ]
  },
  {
   "cell_type": "markdown",
   "metadata": {},
   "source": [
    "## t test, u test"
   ]
  },
  {
   "cell_type": "code",
   "execution_count": null,
   "metadata": {},
   "outputs": [],
   "source": [
    "targetcol = 'income'\n",
    "vc = data[targetcol].value_counts()\n",
    "print(vc)\n",
    "vc.index"
   ]
  },
  {
   "cell_type": "code",
   "execution_count": null,
   "metadata": {},
   "outputs": [],
   "source": [
    "from scipy.stats import ttest_ind, mannwhitneyu\n",
    "\n",
    "col = 'age'\n",
    "## 타겟 값 분포 차이 확인\n",
    "g1 = data[data[targetcol] == vc.index[0]][col]\n",
    "g2 = data[data[targetcol] == vc.index[1]][col]\n",
    "\n",
    "## 차이가 의미가 있다면 분류에서도 도움이 될 것으로 기대할 수 있다.\n",
    "t, ttestp = ttest_ind(g1, g2)\n",
    "### 정규성 가정이 필요 없는 utest로 차이 검정\n",
    "u, up = mannwhitneyu(g1, g2)\n",
    "print(t,ttestp,u,up)\n",
    "if up < 0.001 : print('not same dist')\n",
    "else : print('same dist')\n",
    "\n",
    "import matplotlib.pyplot as plt\n",
    "plt.hist(g1,alpha=0.5)\n",
    "plt.hist(g2,alpha=0.5)\n",
    "plt.show()"
   ]
  },
  {
   "cell_type": "markdown",
   "metadata": {},
   "source": [
    "## proportion test"
   ]
  },
  {
   "cell_type": "code",
   "execution_count": null,
   "metadata": {},
   "outputs": [],
   "source": [
    "from statsmodels.stats.proportion import proportions_ztest\n",
    "col = 'sex'\n",
    "targetcol = 'income'\n",
    "\n",
    "dc = pd.DataFrame(data.groupby([col,targetcol]).size()).unstack(0)\n",
    "dc.columns = dc.columns.droplevel()\n",
    "dc.loc['sum'] = dc.sum()\n",
    "dc.loc['ratio'] = dc.loc[' <=50K'] / dc.loc['sum']\n",
    "display(dc)\n",
    "c = dc.loc[' <=50K'].values\n",
    "n = dc.loc['sum'].values\n",
    "print(c,n)\n",
    "print(proportions_ztest(nobs=n,count=c))\n"
   ]
  },
  {
   "cell_type": "code",
   "execution_count": null,
   "metadata": {},
   "outputs": [],
   "source": [
    "from statsmodels.stats.proportion import proportions_ztest\n",
    "col = 'marital-status'\n",
    "targetcol = 'income'\n",
    "y = data[col]\n",
    "n = data[data[targetcol] == vc.index[1]][col]\n",
    "yv = pd.DataFrame(y.value_counts().reset_index())\n",
    "nv = pd.DataFrame(n.value_counts().reset_index())\n",
    "ynv = yv.merge(nv,how='outer',on='index')\n",
    "display(ynv)\n",
    "\n",
    "tvc= data[targetcol].value_counts()\n",
    "display(tvc)\n",
    "tp = float(tvc.values[1])/ sum(tvc.values)\n",
    "print(tp)\n",
    "c1 = ynv.iloc[:,1].fillna(0)\n",
    "c2 = ynv.iloc[:,2].fillna(0)\n",
    "zs = []\n",
    "ps = []\n",
    "for a1,t in zip(c1,c2):\n",
    "    z,p = proportions_ztest(nobs=a1,count=t,value=tp)\n",
    "    zs.append(z)\n",
    "    ps.append(round(p,4))\n",
    "rd = pd.DataFrame.from_dict({'값': ynv.iloc[:,0],'전체':c1,'타겟':c2,'타겟 비율':c2/c1,'전체 타겟 중 비율': c2/sum(c2),\n",
    "                           'z' : zs, 'p':ps})\n",
    "print(col)\n",
    "display(rd)"
   ]
  },
  {
   "cell_type": "code",
   "execution_count": null,
   "metadata": {},
   "outputs": [],
   "source": []
  }
 ],
 "metadata": {
  "kernelspec": {
   "display_name": "Python 3",
   "language": "python",
   "name": "python3"
  },
  "language_info": {
   "codemirror_mode": {
    "name": "ipython",
    "version": 3
   },
   "file_extension": ".py",
   "mimetype": "text/x-python",
   "name": "python",
   "nbconvert_exporter": "python",
   "pygments_lexer": "ipython3",
   "version": "3.6.8"
  }
 },
 "nbformat": 4,
 "nbformat_minor": 2
}
